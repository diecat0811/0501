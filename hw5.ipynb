{
 "cells": [
  {
   "cell_type": "code",
   "execution_count": 14,
   "metadata": {},
   "outputs": [],
   "source": [
    "def add (arg1,arg2):\n",
    "    return arg1+arg2\n",
    "def minus (arg1,arg2):\n",
    "    return arg1-arg2\n",
    "def multi (arg1,arg2):\n",
    "    return arg1*arg2\n",
    "def div (arg1,arg2):\n",
    "    return arg1/arg2\n",
    "def run(func,arg1,arg2):\n",
    "    return func(arg1,arg2)"
   ]
  },
  {
   "cell_type": "code",
   "execution_count": 16,
   "metadata": {},
   "outputs": [
    {
     "name": "stdout",
     "output_type": "stream",
     "text": [
      "x1\n",
      "y2\n",
      "x+y= 3\n",
      "x-y= -1\n",
      "x*y= 2\n",
      "x/y= 0.5\n"
     ]
    }
   ],
   "source": [
    "x=int(input(\"x\"))\n",
    "y=int(input(\"y\"))\n",
    "print(\"x+y=\",run(add,x,y))\n",
    "print(\"x-y=\",run(minus,x,y))\n",
    "print(\"x*y=\",run(multi,x,y))\n",
    "print(\"x/y=\",run(div,x,y))"
   ]
  },
  {
   "cell_type": "code",
   "execution_count": null,
   "metadata": {},
   "outputs": [],
   "source": []
  }
 ],
 "metadata": {
  "kernelspec": {
   "display_name": "Python 3",
   "language": "python",
   "name": "python3"
  },
  "language_info": {
   "codemirror_mode": {
    "name": "ipython",
    "version": 3
   },
   "file_extension": ".py",
   "mimetype": "text/x-python",
   "name": "python",
   "nbconvert_exporter": "python",
   "pygments_lexer": "ipython3",
   "version": "3.7.3"
  }
 },
 "nbformat": 4,
 "nbformat_minor": 2
}
